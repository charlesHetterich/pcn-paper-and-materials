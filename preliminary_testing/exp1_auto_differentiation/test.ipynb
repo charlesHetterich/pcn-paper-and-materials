{
 "cells": [
  {
   "cell_type": "code",
   "execution_count": 1,
   "metadata": {},
   "outputs": [],
   "source": [
    "import torch\n",
    "from torch import nn\n",
    "from matplotlib import pyplot as plt\n",
    "import math\n"
   ]
  },
  {
   "cell_type": "code",
   "execution_count": 28,
   "metadata": {},
   "outputs": [],
   "source": [
    "# Simple distance-weight function where the weight is given by inverse of the square distance between two neurons\n",
    "def distance_to_weight(d: torch.Tensor) -> torch.Tensor:\n",
    "    return d**-1\n",
    "\n",
    "\n",
    "# ReLU activation function between hidden layers\n",
    "def activation(x: torch.Tensor) -> torch.Tensor:\n",
    "    return torch.nn.functional.relu(x)\n"
   ]
  },
  {
   "cell_type": "code",
   "execution_count": 29,
   "metadata": {},
   "outputs": [],
   "source": [
    "# 2D, fixed-x (forward-fixed), base example\n",
    "\n",
    "spacer = 0.6  # space between layers on x-axis\n",
    "\n",
    "\n",
    "class PCN(nn.Module):\n",
    "    def __init__(self):\n",
    "        super().__init__()\n",
    "        self.p0 = nn.Parameter(torch.tensor([[spacer * 0, 0]]).float())\n",
    "        self.p1 = nn.Parameter(\n",
    "            torch.tensor([[spacer * 1, 0.3], [spacer * 1, -0.3]]).float()\n",
    "        )\n",
    "        self.p2 = nn.Parameter(\n",
    "            torch.tensor([[spacer * 2, 0.3], [spacer * 2, -0.3]]).float()\n",
    "        )\n",
    "        self.p3 = nn.Parameter(torch.tensor([[spacer * 3, 0]]).float())\n",
    "\n",
    "        self.layers = [self.p0, self.p1, self.p2, self.p3]\n",
    "\n",
    "    def forward(self, x):\n",
    "        z = x\n",
    "\n",
    "        D1 = torch.cdist(self.p0, self.p1)\n",
    "        D1.retain_grad()\n",
    "        W1 = distance_to_weight(D1)\n",
    "        W1.retain_grad()\n",
    "        z = activation(z @ W1)\n",
    "\n",
    "        D2 = torch.cdist(self.p1, self.p2)\n",
    "        D2.retain_grad()\n",
    "        W2 = distance_to_weight(D2)\n",
    "        W2.retain_grad()\n",
    "        z = activation(z @ W2)\n",
    "\n",
    "        D3 = torch.cdist(self.p2, self.p3)\n",
    "        D3.retain_grad()\n",
    "        W3 = distance_to_weight(D3)\n",
    "        W3.retain_grad()\n",
    "        z = activation(z @ W3)\n",
    "\n",
    "        # For auto-grad analysis purposes, store D2, W2, D3, W3\n",
    "        self.D1, self.W1, self.D2, self.W2, self.D3, self.W3 = D1, W1, D2, W2, D3, W3\n",
    "\n",
    "        return z\n",
    "\n",
    "\n",
    "model = PCN()\n"
   ]
  },
  {
   "cell_type": "code",
   "execution_count": 30,
   "metadata": {},
   "outputs": [
    {
     "data": {
      "image/png": "[encoded data removed]",
      "text/plain": [
       "<Figure size 640x480 with 1 Axes>"
      ]
     },
     "metadata": {},
     "output_type": "display_data"
    }
   ],
   "source": [
    "points = torch.cat([l.detach() for i, l in enumerate(model.layers)])\n",
    "\n",
    "plt.scatter([p[0] for p in points], [p[1] for p in points])\n",
    "plt.show()\n"
   ]
  },
  {
   "cell_type": "code",
   "execution_count": 31,
   "metadata": {},
   "outputs": [],
   "source": [
    "x = torch.tensor([[1]]).float()\n",
    "y = torch.tensor([[2]]).float()\n",
    "pred = model(x)\n",
    "\n",
    "loss = nn.MSELoss()\n",
    "l = loss(pred, y)\n",
    "l.backward()\n"
   ]
  },
  {
   "cell_type": "code",
   "execution_count": 32,
   "metadata": {},
   "outputs": [],
   "source": [
    "force1 = model.D2.grad[0, 0]\n",
    "force2 = model.D2.grad[1, 0]\n",
    "force3 = model.D3.grad[1]\n",
    "\n",
    "delta1 = model.p1[0] - model.p2[0]\n",
    "delta2 = model.p1[1] - model.p2[0]\n",
    "delta3 = model.p2[0] - model.p3[0]\n",
    "\n",
    "angle1 = math.atan2(delta1[1], delta1[0])\n",
    "angle2 = math.atan2(delta2[1], delta2[0])\n",
    "angle3 = math.atan2(delta3[1], delta3[0])\n",
    "\n",
    "fx1, fy1 = force1 * math.cos(angle1), force1 * math.sin(angle1)\n",
    "fx2, fy2 = force2 * math.cos(angle2), force2 * math.sin(angle2)\n",
    "fx3, fy3 = force3 * math.cos(angle3), force3 * math.sin(angle3)\n"
   ]
  },
  {
   "cell_type": "code",
   "execution_count": 33,
   "metadata": {},
   "outputs": [
    {
     "name": "stdout",
     "output_type": "stream",
     "text": [
      "forces: (tensor([-0.0060]), tensor([0.3232]))\n",
      "point gradient: tensor([-0.0060,  0.3232])\n"
     ]
    }
   ],
   "source": [
    "print(f\"forces: {-(fx1 + fx2) + fx3, -(fy1 + fy2) + fy3}\")\n",
    "print(f\"point gradient: {model.p2.grad[0]}\")\n"
   ]
  },
  {
   "attachments": {},
   "cell_type": "markdown",
   "metadata": {},
   "source": [
    "If we consider the gradient on the distance vector between each point as a force, then we can get the $x$ & $y$ force acting on each point by using the angle between the points. We then see here that the gradient that torch auto-grad gives us is given by the sum of the forces acting on each point. For future use, we should divide the grad of each point by the number of forces acting on it, in order to maintain a stable variance/learning rate throughout the network, regardless of the # of neurons at each layer. If $N_i$ is the # of neurons in the i'th layer, then the # of forces acting on a neuron in the i'th layer is given by $$N_{i-1} + N{i+1}$$\n"
   ]
  },
  {
   "cell_type": "code",
   "execution_count": 8,
   "metadata": {},
   "outputs": [],
   "source": [
    "# TODO: low gpu space taken in both eval & train\n"
   ]
  }
 ],
 "metadata": {
  "kernelspec": {
   "display_name": "deeplearning",
   "language": "python",
   "name": "python3"
  },
  "language_info": {
   "codemirror_mode": {
    "name": "ipython",
    "version": 3
   },
   "file_extension": ".py",
   "mimetype": "text/x-python",
   "name": "python",
   "nbconvert_exporter": "python",
   "pygments_lexer": "ipython3",
   "version": "3.8.10"
  },
  "orig_nbformat": 4
 },
 "nbformat": 4,
 "nbformat_minor": 2
}
