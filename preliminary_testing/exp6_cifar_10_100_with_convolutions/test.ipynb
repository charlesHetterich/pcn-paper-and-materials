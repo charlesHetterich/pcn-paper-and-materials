{
 "cells": [
  {
   "cell_type": "code",
   "execution_count": null,
   "metadata": {},
   "outputs": [],
   "source": [
    "# Models to test\n",
    "# AlexNet\n",
    "# ZFNet (improved AlexNet)"
   ]
  },
  {
   "cell_type": "code",
   "execution_count": 19,
   "metadata": {},
   "outputs": [],
   "source": [
    "import shutil\n",
    "import tempfile\n",
    "import sys\n",
    "sys.path.append('..')\n",
    "\n",
    "import util\n",
    "import datasets\n",
    "from local_util import *\n",
    "\n",
    "import torch\n",
    "\n",
    "gpu = torch.device(\"cuda:0\")\n",
    "convnet_fcn = ConvNet(\n",
    "    conv_layers=[3, 32, 128, 512, 1024], linear_layers=[1024, 10],\n",
    ").to(gpu)\n",
    "\n",
    "convnet_pcn = ConvNetPCN(\n",
    "    conv_layers=[3, 32, 128, 512, 1024], linear_layers=[1024, 10], pcn_dims=16\n",
    ").to(gpu)"
   ]
  },
  {
   "cell_type": "code",
   "execution_count": 21,
   "metadata": {},
   "outputs": [],
   "source": [
    "m = convnet_fcn.net\n",
    "fcn_conv_param_count = 0\n",
    "for param in m.parameters():\n",
    "    fcn_conv_param_count += np.prod(param.shape)\n",
    "\n",
    "m = convnet_fcn.classifier\n",
    "fcn_linear_param_count = 0\n",
    "for param in m.parameters():\n",
    "    fcn_linear_param_count += np.prod(param.shape)\n",
    "\n",
    "m = convnet_pcn.net\n",
    "pcn_conv_param_count = 0\n",
    "for param in m.parameters():\n",
    "    pcn_conv_param_count += np.prod(param.shape)\n",
    "\n",
    "m = convnet_pcn.classifier\n",
    "pcn_linear_param_count = 0\n",
    "for param in m.parameters():\n",
    "    pcn_linear_param_count += np.prod(param.shape)\n",
    "pcn_linear_param_count -= 1024 # first layer bias unused"
   ]
  },
  {
   "cell_type": "code",
   "execution_count": 23,
   "metadata": {},
   "outputs": [
    {
     "data": {
      "text/plain": [
       "(33962, 1059850)"
      ]
     },
     "execution_count": 23,
     "metadata": {},
     "output_type": "execute_result"
    }
   ],
   "source": [
    "pcn_linear_param_count, fcn_linear_param_count"
   ]
  }
 ],
 "metadata": {
  "kernelspec": {
   "display_name": "dl",
   "language": "python",
   "name": "python3"
  },
  "language_info": {
   "codemirror_mode": {
    "name": "ipython",
    "version": 3
   },
   "file_extension": ".py",
   "mimetype": "text/x-python",
   "name": "python",
   "nbconvert_exporter": "python",
   "pygments_lexer": "ipython3",
   "version": "3.10.11"
  },
  "orig_nbformat": 4
 },
 "nbformat": 4,
 "nbformat_minor": 2
}
