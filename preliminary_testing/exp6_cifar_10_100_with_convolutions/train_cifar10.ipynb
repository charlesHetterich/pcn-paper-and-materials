{
 "cells": [
  {
   "cell_type": "code",
   "execution_count": 1,
   "metadata": {},
   "outputs": [],
   "source": [
    "import shutil\n",
    "import tempfile\n",
    "import sys\n",
    "sys.path.append('..')\n",
    "\n",
    "import util\n",
    "import datasets\n",
    "from local_util import *\n",
    "\n",
    "import torch\n",
    "import torch.utils.tensorboard as tb\n",
    "\n",
    "train = datasets.load_data(datasets.Cifar10(\"train\"))\n",
    "test = datasets.load_data(datasets.Cifar10(\"test\"))"
   ]
  },
  {
   "cell_type": "code",
   "execution_count": 2,
   "metadata": {},
   "outputs": [],
   "source": [
    "\n",
    "# Good results at the moment so don't delete logs\n",
    "\n",
    "# # Clear log_dir\n",
    "\n",
    "# shutil.rmtree(\"log_dir\", ignore_errors=True)"
   ]
  },
  {
   "cell_type": "code",
   "execution_count": 4,
   "metadata": {},
   "outputs": [
    {
     "ename": "KeyboardInterrupt",
     "evalue": "",
     "output_type": "error",
     "traceback": [
      "\u001b[1;31m---------------------------------------------------------------------------\u001b[0m",
      "\u001b[1;31mKeyboardInterrupt\u001b[0m                         Traceback (most recent call last)",
      "Cell \u001b[1;32mIn[4], line 58\u001b[0m\n\u001b[0;32m     55\u001b[0m         optimizer\u001b[39m.\u001b[39mstep()\n\u001b[0;32m     56\u001b[0m         optimizer\u001b[39m.\u001b[39mzero_grad()\n\u001b[1;32m---> 58\u001b[0m     conf_mat\u001b[39m.\u001b[39madd(pred\u001b[39m.\u001b[39;49mcpu()\u001b[39m.\u001b[39margmax(\u001b[39m1\u001b[39m), y\u001b[39m.\u001b[39mcpu())\n\u001b[0;32m     59\u001b[0m     tb_logger\u001b[39m.\u001b[39madd_scalar(\u001b[39m\"\u001b[39m\u001b[39mloss\u001b[39m\u001b[39m\"\u001b[39m, l, step)\n\u001b[0;32m     60\u001b[0m tb_logger\u001b[39m.\u001b[39madd_scalar(\u001b[39m\"\u001b[39m\u001b[39maccuracy\u001b[39m\u001b[39m\"\u001b[39m, conf_mat\u001b[39m.\u001b[39maccuracy, epoch)\n",
      "\u001b[1;31mKeyboardInterrupt\u001b[0m: "
     ]
    }
   ],
   "source": [
    "device = torch.device(\"cuda:0\" if torch.cuda.is_available() else \"cpu\")\n",
    "\n",
    "log_dir = \"log_dir\"\n",
    "epochs = 10000\n",
    "in_features = 3\n",
    "out_features = 10\n",
    "\n",
    "loss = torch.nn.CrossEntropyLoss()\n",
    "models: list[tuple[str, torch.nn.Module]] = [\n",
    "    (\n",
    "        \"conv_net\", \n",
    "        ConvNet(\n",
    "            conv_layers=[in_features, 32, 128, 512, 1024],\n",
    "            linear_layers=[1024, out_features],\n",
    "        ).to(device)),\n",
    "    (\n",
    "        \"conv_net_pcn\", \n",
    "        ConvNetPCN(\n",
    "            conv_layers=[in_features, 32, 128, 512, 1024],\n",
    "            linear_layers=[1024, out_features],\n",
    "            pcn_dims=16\n",
    "        ).to(device),\n",
    "    ),\n",
    "]\n",
    "model_utils = [\n",
    "    (\n",
    "        tb.SummaryWriter(log_dir=f\"{log_dir}/{models[0][0]}\"),\n",
    "        [\n",
    "            torch.optim.SGD(models[0][1].parameters(), lr=0.0001)\n",
    "        ],\n",
    "    ),\n",
    "    (\n",
    "        tb.SummaryWriter(log_dir=f\"{log_dir}/{models[1][0]}\"),\n",
    "        [\n",
    "            torch.optim.SGD(models[1][1].net.parameters(), lr=0.0001),\n",
    "            pcnSGD(models[1][1].classifier, lr=0.0001, opp=\"log\"),\n",
    "        ],\n",
    "    ),\n",
    "]\n",
    "\n",
    "\n",
    "for epoch in range(epochs):\n",
    "    for (_, model), (tb_logger, optimizers) in zip(models, model_utils):\n",
    "        model.train()\n",
    "        conf_mat = util.ConfusionMatrix(size=10)\n",
    "        for i, (x, y) in enumerate(train):\n",
    "            step = epoch * len(train) + i\n",
    "            x, y = x.to(device).float(), y.to(device)\n",
    "            pred = model(x)\n",
    "\n",
    "            l = loss(pred, y)\n",
    "            l.backward()\n",
    "\n",
    "            for optimizer in optimizers:\n",
    "                optimizer.step()\n",
    "                optimizer.zero_grad()\n",
    "\n",
    "            conf_mat.add(pred.cpu().argmax(1), y.cpu())\n",
    "            tb_logger.add_scalar(\"loss\", l, step)\n",
    "        tb_logger.add_scalar(\"accuracy\", conf_mat.accuracy, epoch)\n",
    "\n",
    "        model.eval()\n",
    "        conf_mat = util.ConfusionMatrix(size=10)\n",
    "        with torch.no_grad():\n",
    "            for i, (x, y) in enumerate(test):\n",
    "                x, y = x.to(device).float(), y.to(device)\n",
    "                pred = model(x)\n",
    "                conf_mat.add(pred.cpu().argmax(1), y.cpu())\n",
    "            tb_logger.add_scalar(\"test_accuracy\", conf_mat.accuracy, epoch)"
   ]
  },
  {
   "cell_type": "code",
   "execution_count": 3,
   "metadata": {},
   "outputs": [
    {
     "data": {
      "text/html": [
       "\n",
       "      <iframe id=\"tensorboard-frame-999f04733e4ab135\" width=\"100%\" height=\"800\" frameborder=\"0\">\n",
       "      </iframe>\n",
       "      <script>\n",
       "        (function() {\n",
       "          const frame = document.getElementById(\"tensorboard-frame-999f04733e4ab135\");\n",
       "          const url = new URL(\"/\", window.location);\n",
       "          const port = 6005;\n",
       "          if (port) {\n",
       "            url.port = port;\n",
       "          }\n",
       "          frame.src = url;\n",
       "        })();\n",
       "      </script>\n",
       "    "
      ],
      "text/plain": [
       "<IPython.core.display.HTML object>"
      ]
     },
     "metadata": {},
     "output_type": "display_data"
    }
   ],
   "source": [
    "\n",
    "# Start tensorboard\n",
    "\n",
    "shutil.rmtree(tempfile.gettempdir() + \"/.tensorboard-info\", ignore_errors=True) # sort of 'force reload' for tensorboard\n",
    "%load_ext tensorboard \n",
    "%tensorboard --logdir log_dir --reload_interval 1 --port 6005"
   ]
  }
 ],
 "metadata": {
  "kernelspec": {
   "display_name": "dl",
   "language": "python",
   "name": "python3"
  },
  "language_info": {
   "codemirror_mode": {
    "name": "ipython",
    "version": 3
   },
   "file_extension": ".py",
   "mimetype": "text/x-python",
   "name": "python",
   "nbconvert_exporter": "python",
   "pygments_lexer": "ipython3",
   "version": "3.10.11"
  },
  "orig_nbformat": 4
 },
 "nbformat": 4,
 "nbformat_minor": 2
}
