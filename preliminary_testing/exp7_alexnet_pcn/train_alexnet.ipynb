{
 "cells": [
  {
   "cell_type": "code",
   "execution_count": 1,
   "metadata": {},
   "outputs": [],
   "source": [
    "import shutil\n",
    "import tempfile\n",
    "import sys\n",
    "sys.path.append('..')\n",
    "\n",
    "import util\n",
    "import datasets\n",
    "from local_util import *\n",
    "\n",
    "import torch\n",
    "import torchvision\n",
    "import torch.utils.tensorboard as tb\n",
    "\n",
    "train = datasets.load_data(datasets.Cifar10(\"train\"), batch_size=384)\n",
    "test = datasets.load_data(datasets.Cifar10(\"test\"), batch_size=384)"
   ]
  },
  {
   "cell_type": "code",
   "execution_count": 2,
   "metadata": {},
   "outputs": [],
   "source": [
    "# Clear log_dir\n",
    "\n",
    "shutil.rmtree(\"log_dir\", ignore_errors=True)"
   ]
  },
  {
   "cell_type": "code",
   "execution_count": 4,
   "metadata": {},
   "outputs": [
    {
     "name": "stderr",
     "output_type": "stream",
     "text": [
      "Using cache found in C:\\Users\\hette/.cache\\torch\\hub\\pytorch_vision_v0.10.0\n",
      "c:\\Users\\hette\\anaconda3\\envs\\dl\\lib\\site-packages\\torchvision\\models\\_utils.py:208: UserWarning: The parameter 'pretrained' is deprecated since 0.13 and may be removed in the future, please use 'weights' instead.\n",
      "  warnings.warn(\n",
      "c:\\Users\\hette\\anaconda3\\envs\\dl\\lib\\site-packages\\torchvision\\models\\_utils.py:223: UserWarning: Arguments other than a weight enum or `None` for 'weights' are deprecated since 0.13 and may be removed in the future. The current behavior is equivalent to passing `weights=None`.\n",
      "  warnings.warn(msg)\n",
      "Using cache found in C:\\Users\\hette/.cache\\torch\\hub\\pytorch_vision_v0.10.0\n",
      "c:\\Users\\hette\\anaconda3\\envs\\dl\\lib\\site-packages\\torchvision\\transforms\\functional.py:1603: UserWarning: The default value of the antialias parameter of all the resizing transforms (Resize(), RandomResizedCrop(), etc.) will change from None to True in v0.17, in order to be consistent across the PIL and Tensor backends. To suppress this warning, directly pass antialias=True (recommended, future default), antialias=None (current default, which means False for Tensors and True for PIL), or antialias=False (only works on Tensors - PIL will still use antialiasing). This also applies if you are using the inference transforms from the models weights: update the call to weights.transforms(antialias=True).\n",
      "  warnings.warn(\n"
     ]
    }
   ],
   "source": [
    "device = torch.device(\"cuda:0\" if torch.cuda.is_available() else \"cpu\")\n",
    "\n",
    "log_dir = \"log_dir\"\n",
    "epochs = 10000\n",
    "in_features = 3\n",
    "out_features = 10\n",
    "\n",
    "loss = torch.nn.CrossEntropyLoss()\n",
    "models: list[tuple[str, torch.nn.Module]] = [\n",
    "    (\n",
    "        \"alexnet\", \n",
    "        torch.hub.load('pytorch/vision:v0.10.0', 'alexnet', pretrained=False).to(device),\n",
    "    ),\n",
    "    (\n",
    "        \"conv_net_pcn\", \n",
    "        torch.hub.load('pytorch/vision:v0.10.0', 'alexnet', pretrained=False).to(device),\n",
    "    ),\n",
    "]\n",
    "models[0][1].classifier[6] = torch.nn.Linear(4096, 10).to(device)\n",
    "models[1][1].classifier = PCN([9216, 4096, 4096, 10], dimensions=16).to(device)\n",
    "\n",
    "model_utils = [\n",
    "    (\n",
    "        tb.SummaryWriter(log_dir=f\"{log_dir}/{models[0][0]}\"),\n",
    "        [\n",
    "            torch.optim.SGD(models[0][1].parameters(), lr=0.0001)\n",
    "        ],\n",
    "    ),\n",
    "    (\n",
    "        tb.SummaryWriter(log_dir=f\"{log_dir}/{models[1][0]}\"),\n",
    "        [\n",
    "            torch.optim.SGD(models[1][1].features.parameters(), lr=0.0001),\n",
    "            pcnSGD(models[1][1].classifier, lr=0.0001, opp=\"log\"),\n",
    "        ],\n",
    "    ),\n",
    "]\n",
    "\n",
    "\n",
    "for epoch in range(epochs):\n",
    "    for (_, model), (tb_logger, optimizers) in zip(models, model_utils):\n",
    "        model.train()\n",
    "        conf_mat = util.ConfusionMatrix(size=10)\n",
    "        for i, (x, y) in enumerate(train):\n",
    "            x = torchvision.transforms.Resize((227, 227))(x)\n",
    "            step = epoch * len(train) + i\n",
    "            x, y = x.to(device).float(), y.to(device)\n",
    "            \n",
    "            pred = model(x)\n",
    "\n",
    "            l = loss(pred, y)\n",
    "            l.backward()\n",
    "\n",
    "            for optimizer in optimizers:\n",
    "                optimizer.step()\n",
    "                optimizer.zero_grad()\n",
    "\n",
    "            conf_mat.add(pred.cpu().argmax(1), y.cpu())\n",
    "            tb_logger.add_scalar(\"loss\", l, step)\n",
    "        tb_logger.add_scalar(\"accuracy\", conf_mat.accuracy, epoch)\n",
    "\n",
    "        model.eval()\n",
    "        conf_mat = util.ConfusionMatrix(size=10)\n",
    "        with torch.no_grad():\n",
    "            for i, (x, y) in enumerate(test):\n",
    "                x = torchvision.transforms.Resize((227, 227))(x)\n",
    "                x, y = x.to(device).float(), y.to(device)\n",
    "                pred = model(x)\n",
    "                conf_mat.add(pred.cpu().argmax(1), y.cpu())\n",
    "            tb_logger.add_scalar(\"test_accuracy\", conf_mat.accuracy, epoch)"
   ]
  },
  {
   "cell_type": "code",
   "execution_count": 3,
   "metadata": {},
   "outputs": [
    {
     "data": {
      "text/html": [
       "\n",
       "      <iframe id=\"tensorboard-frame-fa635ed7930b90e3\" width=\"100%\" height=\"800\" frameborder=\"0\">\n",
       "      </iframe>\n",
       "      <script>\n",
       "        (function() {\n",
       "          const frame = document.getElementById(\"tensorboard-frame-fa635ed7930b90e3\");\n",
       "          const url = new URL(\"/\", window.location);\n",
       "          const port = 6005;\n",
       "          if (port) {\n",
       "            url.port = port;\n",
       "          }\n",
       "          frame.src = url;\n",
       "        })();\n",
       "      </script>\n",
       "    "
      ],
      "text/plain": [
       "<IPython.core.display.HTML object>"
      ]
     },
     "metadata": {},
     "output_type": "display_data"
    }
   ],
   "source": [
    "\n",
    "# Start tensorboard\n",
    "\n",
    "shutil.rmtree(tempfile.gettempdir() + \"/.tensorboard-info\", ignore_errors=True) # sort of 'force reload' for tensorboard\n",
    "%load_ext tensorboard \n",
    "%tensorboard --logdir log_dir --reload_interval 1 --port 6005"
   ]
  }
 ],
 "metadata": {
  "kernelspec": {
   "display_name": "dl",
   "language": "python",
   "name": "python3"
  },
  "language_info": {
   "codemirror_mode": {
    "name": "ipython",
    "version": 3
   },
   "file_extension": ".py",
   "mimetype": "text/x-python",
   "name": "python",
   "nbconvert_exporter": "python",
   "pygments_lexer": "ipython3",
   "version": "3.10.11"
  },
  "orig_nbformat": 4
 },
 "nbformat": 4,
 "nbformat_minor": 2
}
