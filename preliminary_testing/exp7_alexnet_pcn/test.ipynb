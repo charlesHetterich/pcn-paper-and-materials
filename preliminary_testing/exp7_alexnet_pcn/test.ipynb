{
 "cells": [
  {
   "cell_type": "code",
   "execution_count": 3,
   "metadata": {},
   "outputs": [
    {
     "name": "stderr",
     "output_type": "stream",
     "text": [
      "Using cache found in C:\\Users\\hette/.cache\\torch\\hub\\pytorch_vision_v0.10.0\n",
      "Using cache found in C:\\Users\\hette/.cache\\torch\\hub\\pytorch_vision_v0.10.0\n"
     ]
    }
   ],
   "source": [
    "import torch\n",
    "from local_util import *\n",
    "device = torch.device(\"cuda:0\" if torch.cuda.is_available() else \"cpu\")\n",
    "\n",
    "alexnet = torch.hub.load('pytorch/vision:v0.10.0', 'alexnet', pretrained=False).to(device)\n",
    "alexnet.classifier[6] = torch.nn.Linear(4096, 10).to(device)\n",
    "\n",
    "alexnet_pcn = torch.hub.load('pytorch/vision:v0.10.0', 'alexnet', pretrained=False).to(device)\n",
    "alexnet_pcn.classifier = PCN([9216, 4096, 4096, 10], dimensions=16).to(device)\n"
   ]
  },
  {
   "cell_type": "code",
   "execution_count": 4,
   "metadata": {},
   "outputs": [],
   "source": [
    "m = alexnet.features\n",
    "alexnet_conv_param_count = 0\n",
    "for param in m.parameters():\n",
    "    alexnet_conv_param_count += np.prod(param.shape)\n",
    "\n",
    "m = alexnet.classifier\n",
    "alexnet_linear_param_count = 0\n",
    "for param in m.parameters():\n",
    "    alexnet_linear_param_count += np.prod(param.shape)\n",
    "\n",
    "m = alexnet_pcn.features\n",
    "pcn_alexnet_conv_param_count = 0\n",
    "for param in m.parameters():\n",
    "    pcn_alexnet_conv_param_count += np.prod(param.shape)\n",
    "\n",
    "m = alexnet_pcn.classifier\n",
    "pcn_alexnet_linear_param_count = 0\n",
    "for param in m.parameters():\n",
    "    pcn_alexnet_linear_param_count += np.prod(param.shape)\n",
    "pcn_alexnet_linear_param_count -= 9216"
   ]
  },
  {
   "cell_type": "code",
   "execution_count": 6,
   "metadata": {},
   "outputs": [
    {
     "name": "stdout",
     "output_type": "stream",
     "text": [
      "fcn alexnet linear layers: 54575114\n",
      "fcn alexnet total layers: 57044810\n",
      "pcn alexnet linear layers: 286890\n",
      "pcn alexnet total layers: 2756586\n"
     ]
    }
   ],
   "source": [
    "print(f'fcn alexnet linear layers: {alexnet_linear_param_count}')\n",
    "print(f'fcn alexnet total layers: {alexnet_conv_param_count + alexnet_linear_param_count}')\n",
    "\n",
    "print(f'pcn alexnet linear layers: {pcn_alexnet_linear_param_count}')\n",
    "print(f'pcn alexnet total layers: {pcn_alexnet_conv_param_count + pcn_alexnet_linear_param_count}')"
   ]
  },
  {
   "cell_type": "code",
   "execution_count": 18,
   "metadata": {},
   "outputs": [
    {
     "name": "stdout",
     "output_type": "stream",
     "text": [
      "----------------------------------------------------------------\n",
      "        Layer (type)               Output Shape         Param #\n",
      "================================================================\n",
      "            Conv2d-1           [-1, 64, 56, 56]          23,296\n",
      "              ReLU-2           [-1, 64, 56, 56]               0\n",
      "         MaxPool2d-3           [-1, 64, 27, 27]               0\n",
      "            Conv2d-4          [-1, 192, 27, 27]         307,392\n",
      "              ReLU-5          [-1, 192, 27, 27]               0\n",
      "         MaxPool2d-6          [-1, 192, 13, 13]               0\n",
      "            Conv2d-7          [-1, 384, 13, 13]         663,936\n",
      "              ReLU-8          [-1, 384, 13, 13]               0\n",
      "            Conv2d-9          [-1, 256, 13, 13]         884,992\n",
      "             ReLU-10          [-1, 256, 13, 13]               0\n",
      "           Conv2d-11          [-1, 256, 13, 13]         590,080\n",
      "             ReLU-12          [-1, 256, 13, 13]               0\n",
      "        MaxPool2d-13            [-1, 256, 6, 6]               0\n",
      "AdaptiveAvgPool2d-14            [-1, 256, 6, 6]               0\n",
      "          Dropout-15                 [-1, 9216]               0\n",
      "           Linear-16                 [-1, 4096]      37,752,832\n",
      "             ReLU-17                 [-1, 4096]               0\n",
      "          Dropout-18                 [-1, 4096]               0\n",
      "           Linear-19                 [-1, 4096]      16,781,312\n",
      "             ReLU-20                 [-1, 4096]               0\n",
      "           Linear-21                   [-1, 10]          40,970\n",
      "================================================================\n",
      "Total params: 57,044,810\n",
      "Trainable params: 57,044,810\n",
      "Non-trainable params: 0\n",
      "----------------------------------------------------------------\n",
      "Input size (MB): 0.59\n",
      "Forward/backward pass size (MB): 8.48\n",
      "Params size (MB): 217.61\n",
      "Estimated Total Size (MB): 226.68\n",
      "----------------------------------------------------------------\n"
     ]
    }
   ],
   "source": [
    "import torchsummary\n",
    "torchsummary.summary(alexnet, (3, 227, 227))"
   ]
  }
 ],
 "metadata": {
  "kernelspec": {
   "display_name": "dl",
   "language": "python",
   "name": "python3"
  },
  "language_info": {
   "codemirror_mode": {
    "name": "ipython",
    "version": 3
   },
   "file_extension": ".py",
   "mimetype": "text/x-python",
   "name": "python",
   "nbconvert_exporter": "python",
   "pygments_lexer": "ipython3",
   "version": "3.10.11"
  },
  "orig_nbformat": 4
 },
 "nbformat": 4,
 "nbformat_minor": 2
}
